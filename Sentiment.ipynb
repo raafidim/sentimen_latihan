{
  "nbformat": 4,
  "nbformat_minor": 0,
  "metadata": {
    "colab": {
      "name": "Untitled20.ipynb",
      "provenance": []
    },
    "kernelspec": {
      "name": "python3",
      "display_name": "Python 3"
    },
    "language_info": {
      "name": "python"
    }
  },
  "cells": [
    {
      "cell_type": "markdown",
      "metadata": {
        "id": "-lsnqJCVieEA"
      },
      "source": [
        "### Name   : Raafi Dimas Adji Pradana\n",
        "### Course : DICODING"
      ]
    },
    {
      "cell_type": "code",
      "metadata": {
        "id": "9GoGxIGwRKzq"
      },
      "source": [
        "import numpy as np # linear algebra\n",
        "import pandas as pd # data processing, CSV file I/O (e.g. pd.read_csv)\n",
        "\n",
        "from sklearn.feature_extraction.text import CountVectorizer\n",
        "from keras.preprocessing.text import Tokenizer\n",
        "from keras.preprocessing.sequence import pad_sequences\n",
        "from keras.models import Sequential\n",
        "from keras.layers import Dense, Embedding, LSTM, SpatialDropout1D\n",
        "from sklearn.model_selection import train_test_split\n",
        "from keras.utils.np_utils import to_categorical\n",
        "import re"
      ],
      "execution_count": 1,
      "outputs": []
    },
    {
      "cell_type": "code",
      "metadata": {
        "id": "n1beM6xtbHzy"
      },
      "source": [
        "from sklearn import metrics\n",
        "from sklearn.metrics import confusion_matrix\n",
        "from sklearn.metrics import classification_report\n",
        "import tensorflow as tf\n",
        "import matplotlib.pyplot as plt"
      ],
      "execution_count": 34,
      "outputs": []
    },
    {
      "cell_type": "code",
      "metadata": {
        "colab": {
          "base_uri": "https://localhost:8080/"
        },
        "id": "i_echOXYWmVT",
        "outputId": "1b0a8b83-5eb2-429a-e0a3-d2c8ba11cbd2"
      },
      "source": [
        "from google.colab import drive\n",
        "drive.mount('/content/drive/')"
      ],
      "execution_count": 2,
      "outputs": [
        {
          "output_type": "stream",
          "text": [
            "Mounted at /content/drive/\n"
          ],
          "name": "stdout"
        }
      ]
    },
    {
      "cell_type": "code",
      "metadata": {
        "id": "0zdvrr2CW3dv"
      },
      "source": [
        "data = pd.read_csv('/content/drive/MyDrive/Datacolab/Sentiment.csv')"
      ],
      "execution_count": 4,
      "outputs": []
    },
    {
      "cell_type": "code",
      "metadata": {
        "id": "ggFJxGe_XOnt"
      },
      "source": [
        "# Keeping only the neccessary columns\n",
        "data = data[['text','sentiment']]"
      ],
      "execution_count": 5,
      "outputs": []
    },
    {
      "cell_type": "code",
      "metadata": {
        "colab": {
          "base_uri": "https://localhost:8080/",
          "height": 202
        },
        "id": "ITQMSoUVXPzF",
        "outputId": "620ec428-af6b-4e16-e51f-84553ced12dc"
      },
      "source": [
        "data.head()"
      ],
      "execution_count": 6,
      "outputs": [
        {
          "output_type": "execute_result",
          "data": {
            "text/html": [
              "<div>\n",
              "<style scoped>\n",
              "    .dataframe tbody tr th:only-of-type {\n",
              "        vertical-align: middle;\n",
              "    }\n",
              "\n",
              "    .dataframe tbody tr th {\n",
              "        vertical-align: top;\n",
              "    }\n",
              "\n",
              "    .dataframe thead th {\n",
              "        text-align: right;\n",
              "    }\n",
              "</style>\n",
              "<table border=\"1\" class=\"dataframe\">\n",
              "  <thead>\n",
              "    <tr style=\"text-align: right;\">\n",
              "      <th></th>\n",
              "      <th>text</th>\n",
              "      <th>sentiment</th>\n",
              "    </tr>\n",
              "  </thead>\n",
              "  <tbody>\n",
              "    <tr>\n",
              "      <th>0</th>\n",
              "      <td>RT @NancyLeeGrahn: How did everyone feel about...</td>\n",
              "      <td>Neutral</td>\n",
              "    </tr>\n",
              "    <tr>\n",
              "      <th>1</th>\n",
              "      <td>RT @ScottWalker: Didn't catch the full #GOPdeb...</td>\n",
              "      <td>Positive</td>\n",
              "    </tr>\n",
              "    <tr>\n",
              "      <th>2</th>\n",
              "      <td>RT @TJMShow: No mention of Tamir Rice and the ...</td>\n",
              "      <td>Neutral</td>\n",
              "    </tr>\n",
              "    <tr>\n",
              "      <th>3</th>\n",
              "      <td>RT @RobGeorge: That Carly Fiorina is trending ...</td>\n",
              "      <td>Positive</td>\n",
              "    </tr>\n",
              "    <tr>\n",
              "      <th>4</th>\n",
              "      <td>RT @DanScavino: #GOPDebate w/ @realDonaldTrump...</td>\n",
              "      <td>Positive</td>\n",
              "    </tr>\n",
              "  </tbody>\n",
              "</table>\n",
              "</div>"
            ],
            "text/plain": [
              "                                                text sentiment\n",
              "0  RT @NancyLeeGrahn: How did everyone feel about...   Neutral\n",
              "1  RT @ScottWalker: Didn't catch the full #GOPdeb...  Positive\n",
              "2  RT @TJMShow: No mention of Tamir Rice and the ...   Neutral\n",
              "3  RT @RobGeorge: That Carly Fiorina is trending ...  Positive\n",
              "4  RT @DanScavino: #GOPDebate w/ @realDonaldTrump...  Positive"
            ]
          },
          "metadata": {
            "tags": []
          },
          "execution_count": 6
        }
      ]
    },
    {
      "cell_type": "code",
      "metadata": {
        "colab": {
          "base_uri": "https://localhost:8080/"
        },
        "id": "HM-lnf2CXUfM",
        "outputId": "d1a506ee-a479-4e7f-8266-497de096475a"
      },
      "source": [
        "data.info()"
      ],
      "execution_count": 7,
      "outputs": [
        {
          "output_type": "stream",
          "text": [
            "<class 'pandas.core.frame.DataFrame'>\n",
            "RangeIndex: 13871 entries, 0 to 13870\n",
            "Data columns (total 2 columns):\n",
            " #   Column     Non-Null Count  Dtype \n",
            "---  ------     --------------  ----- \n",
            " 0   text       13871 non-null  object\n",
            " 1   sentiment  13871 non-null  object\n",
            "dtypes: object(2)\n",
            "memory usage: 216.9+ KB\n"
          ],
          "name": "stdout"
        }
      ]
    },
    {
      "cell_type": "code",
      "metadata": {
        "colab": {
          "base_uri": "https://localhost:8080/"
        },
        "id": "VjJkciaNXfMc",
        "outputId": "55c67762-12e5-489b-8206-a78d1fedb09c"
      },
      "source": [
        "data = data[data.sentiment != \"Neutral\"]\n",
        "data['text'] = data['text'].apply(lambda x: x.lower())\n",
        "data['text'] = data['text'].apply((lambda x: re.sub('[^a-zA-z0-9\\s]','',x)))"
      ],
      "execution_count": 9,
      "outputs": [
        {
          "output_type": "stream",
          "text": [
            "/usr/local/lib/python3.7/dist-packages/ipykernel_launcher.py:2: SettingWithCopyWarning: \n",
            "A value is trying to be set on a copy of a slice from a DataFrame.\n",
            "Try using .loc[row_indexer,col_indexer] = value instead\n",
            "\n",
            "See the caveats in the documentation: https://pandas.pydata.org/pandas-docs/stable/user_guide/indexing.html#returning-a-view-versus-a-copy\n",
            "  \n",
            "/usr/local/lib/python3.7/dist-packages/ipykernel_launcher.py:3: SettingWithCopyWarning: \n",
            "A value is trying to be set on a copy of a slice from a DataFrame.\n",
            "Try using .loc[row_indexer,col_indexer] = value instead\n",
            "\n",
            "See the caveats in the documentation: https://pandas.pydata.org/pandas-docs/stable/user_guide/indexing.html#returning-a-view-versus-a-copy\n",
            "  This is separate from the ipykernel package so we can avoid doing imports until\n"
          ],
          "name": "stderr"
        }
      ]
    },
    {
      "cell_type": "code",
      "metadata": {
        "colab": {
          "base_uri": "https://localhost:8080/"
        },
        "id": "dBso0IeRXjM-",
        "outputId": "205673f6-d3c2-4c91-aa29-d34ba2f73de1"
      },
      "source": [
        "print(data[ data['sentiment'] == 'Positive'].size)\n",
        "print(data[ data['sentiment'] == 'Negative'].size)\n",
        "\n",
        "for idx,row in data.iterrows():\n",
        "    row[0] = row[0].replace('rt',' ')\n",
        "    \n",
        "max_fatures = 2000\n",
        "tokenizer = Tokenizer(num_words=max_fatures, split=' ')\n",
        "tokenizer.fit_on_texts(data['text'].values)\n",
        "X = tokenizer.texts_to_sequences(data['text'].values)\n",
        "X = pad_sequences(X)"
      ],
      "execution_count": 10,
      "outputs": [
        {
          "output_type": "stream",
          "text": [
            "4472\n",
            "16986\n"
          ],
          "name": "stdout"
        }
      ]
    },
    {
      "cell_type": "code",
      "metadata": {
        "colab": {
          "base_uri": "https://localhost:8080/"
        },
        "id": "eOPaLd9IXopK",
        "outputId": "5000efd4-799f-4e7e-e1e3-929e11b379e8"
      },
      "source": [
        "embed_dim = 128\n",
        "lstm_out = 196\n",
        "\n",
        "model = Sequential()\n",
        "model.add(Embedding(max_fatures, embed_dim,input_length = X.shape[1]))\n",
        "model.add(SpatialDropout1D(0.4))\n",
        "model.add(LSTM(lstm_out, dropout=0.2, recurrent_dropout=0.2))\n",
        "model.add(Dense(2,activation='softmax'))\n",
        "model.compile(loss = 'categorical_crossentropy', optimizer='adam',metrics = ['accuracy'])\n",
        "print(model.summary())"
      ],
      "execution_count": 11,
      "outputs": [
        {
          "output_type": "stream",
          "text": [
            "Model: \"sequential\"\n",
            "_________________________________________________________________\n",
            "Layer (type)                 Output Shape              Param #   \n",
            "=================================================================\n",
            "embedding (Embedding)        (None, 28, 128)           256000    \n",
            "_________________________________________________________________\n",
            "spatial_dropout1d (SpatialDr (None, 28, 128)           0         \n",
            "_________________________________________________________________\n",
            "lstm (LSTM)                  (None, 196)               254800    \n",
            "_________________________________________________________________\n",
            "dense (Dense)                (None, 2)                 394       \n",
            "=================================================================\n",
            "Total params: 511,194\n",
            "Trainable params: 511,194\n",
            "Non-trainable params: 0\n",
            "_________________________________________________________________\n",
            "None\n"
          ],
          "name": "stdout"
        }
      ]
    },
    {
      "cell_type": "code",
      "metadata": {
        "colab": {
          "base_uri": "https://localhost:8080/"
        },
        "id": "bvbnUkfTXruQ",
        "outputId": "52020d6d-fae1-4f1c-b264-218539bd058a"
      },
      "source": [
        "Y = pd.get_dummies(data['sentiment']).values\n",
        "X_train, X_test, Y_train, Y_test = train_test_split(X,Y, test_size = 0.30, random_state = 42)\n",
        "print(X_train.shape,Y_train.shape)\n",
        "print(X_test.shape,Y_test.shape)"
      ],
      "execution_count": 12,
      "outputs": [
        {
          "output_type": "stream",
          "text": [
            "(7510, 28) (7510, 2)\n",
            "(3219, 28) (3219, 2)\n"
          ],
          "name": "stdout"
        }
      ]
    },
    {
      "cell_type": "code",
      "metadata": {
        "colab": {
          "base_uri": "https://localhost:8080/"
        },
        "id": "jtvnJR2VXwnw",
        "outputId": "116ca5be-97b9-49bc-d8b9-490164d7fc8e"
      },
      "source": [
        "batch_size = 32\n",
        "model.fit(X_train, Y_train, epochs = 15, batch_size=batch_size, verbose = 2)"
      ],
      "execution_count": 14,
      "outputs": [
        {
          "output_type": "stream",
          "text": [
            "Epoch 1/15\n",
            "235/235 - 22s - loss: 0.1688 - accuracy: 0.9329\n",
            "Epoch 2/15\n",
            "235/235 - 22s - loss: 0.1486 - accuracy: 0.9381\n",
            "Epoch 3/15\n",
            "235/235 - 22s - loss: 0.1366 - accuracy: 0.9437\n",
            "Epoch 4/15\n",
            "235/235 - 22s - loss: 0.1269 - accuracy: 0.9462\n",
            "Epoch 5/15\n",
            "235/235 - 22s - loss: 0.1217 - accuracy: 0.9475\n",
            "Epoch 6/15\n",
            "235/235 - 22s - loss: 0.1140 - accuracy: 0.9525\n",
            "Epoch 7/15\n",
            "235/235 - 22s - loss: 0.1090 - accuracy: 0.9541\n",
            "Epoch 8/15\n",
            "235/235 - 22s - loss: 0.1054 - accuracy: 0.9579\n",
            "Epoch 9/15\n",
            "235/235 - 22s - loss: 0.0953 - accuracy: 0.9621\n",
            "Epoch 10/15\n",
            "235/235 - 22s - loss: 0.0933 - accuracy: 0.9598\n",
            "Epoch 11/15\n",
            "235/235 - 22s - loss: 0.0882 - accuracy: 0.9648\n",
            "Epoch 12/15\n",
            "235/235 - 22s - loss: 0.0884 - accuracy: 0.9601\n",
            "Epoch 13/15\n",
            "235/235 - 22s - loss: 0.0860 - accuracy: 0.9648\n",
            "Epoch 14/15\n",
            "235/235 - 22s - loss: 0.0829 - accuracy: 0.9638\n",
            "Epoch 15/15\n",
            "235/235 - 22s - loss: 0.0877 - accuracy: 0.9639\n"
          ],
          "name": "stdout"
        },
        {
          "output_type": "execute_result",
          "data": {
            "text/plain": [
              "<keras.callbacks.History at 0x7f3c4bf1b2d0>"
            ]
          },
          "metadata": {
            "tags": []
          },
          "execution_count": 14
        }
      ]
    },
    {
      "cell_type": "code",
      "metadata": {
        "id": "k9-0aZXJetEM"
      },
      "source": [
        "class myCallback(tf.keras.callbacks.Callback):\n",
        "  def on_epoch_end(self, epoch, logs={}):\n",
        "    if(logs.get('accuracy')>0.9):\n",
        "      print(\"\\nAkurasi telah mencapai >90%!\")\n",
        "      self.model.stop_training = True\n",
        "callbacks = myCallback()"
      ],
      "execution_count": 28,
      "outputs": []
    },
    {
      "cell_type": "code",
      "metadata": {
        "colab": {
          "base_uri": "https://localhost:8080/"
        },
        "id": "VD6zCnwXdBNc",
        "outputId": "ce22b49b-6962-4284-8164-388d1547d368"
      },
      "source": [
        "batch_size = 32\n",
        "model.fit(X_train, Y_train, epochs = 15, batch_size=batch_size, verbose = 2, validation_data=(X_test, Y_test), callbacks=[callbacks])"
      ],
      "execution_count": 29,
      "outputs": [
        {
          "output_type": "stream",
          "text": [
            "Epoch 1/15\n",
            "235/235 - 22s - loss: 0.0630 - accuracy: 0.9715 - val_loss: 1.1395 - val_accuracy: 0.8232\n",
            "\n",
            "Akurasi telah mencapai >90%!\n"
          ],
          "name": "stdout"
        },
        {
          "output_type": "execute_result",
          "data": {
            "text/plain": [
              "<keras.callbacks.History at 0x7f3c4bf25a50>"
            ]
          },
          "metadata": {
            "tags": []
          },
          "execution_count": 29
        }
      ]
    },
    {
      "cell_type": "code",
      "metadata": {
        "colab": {
          "base_uri": "https://localhost:8080/"
        },
        "id": "26P7YLeOggLW",
        "outputId": "68edcf96-e0df-4538-d882-f1b4fcce4996"
      },
      "source": [
        "hist = model.fit(X_train, Y_train, epochs = 15, batch_size=batch_size, verbose = 2, validation_data=(X_test, Y_test))"
      ],
      "execution_count": 39,
      "outputs": [
        {
          "output_type": "stream",
          "text": [
            "Epoch 1/15\n",
            "235/235 - 22s - loss: 0.0657 - accuracy: 0.9712 - val_loss: 1.0735 - val_accuracy: 0.8208\n",
            "Epoch 2/15\n",
            "235/235 - 22s - loss: 0.0612 - accuracy: 0.9742 - val_loss: 1.1566 - val_accuracy: 0.8179\n",
            "Epoch 3/15\n",
            "235/235 - 22s - loss: 0.0629 - accuracy: 0.9744 - val_loss: 1.1874 - val_accuracy: 0.8133\n",
            "Epoch 4/15\n",
            "235/235 - 22s - loss: 0.0603 - accuracy: 0.9732 - val_loss: 1.2377 - val_accuracy: 0.8069\n",
            "Epoch 5/15\n",
            "235/235 - 22s - loss: 0.0662 - accuracy: 0.9718 - val_loss: 1.1413 - val_accuracy: 0.8185\n",
            "Epoch 6/15\n",
            "235/235 - 22s - loss: 0.0601 - accuracy: 0.9735 - val_loss: 1.2006 - val_accuracy: 0.8202\n",
            "Epoch 7/15\n",
            "235/235 - 22s - loss: 0.0625 - accuracy: 0.9724 - val_loss: 1.1205 - val_accuracy: 0.8162\n",
            "Epoch 8/15\n",
            "235/235 - 22s - loss: 0.0645 - accuracy: 0.9711 - val_loss: 1.1514 - val_accuracy: 0.8290\n",
            "Epoch 9/15\n",
            "235/235 - 22s - loss: 0.0649 - accuracy: 0.9720 - val_loss: 1.0262 - val_accuracy: 0.8185\n",
            "Epoch 10/15\n",
            "235/235 - 22s - loss: 0.0600 - accuracy: 0.9736 - val_loss: 1.1447 - val_accuracy: 0.8226\n",
            "Epoch 11/15\n",
            "235/235 - 22s - loss: 0.0631 - accuracy: 0.9724 - val_loss: 1.1148 - val_accuracy: 0.8296\n",
            "Epoch 12/15\n",
            "235/235 - 22s - loss: 0.0595 - accuracy: 0.9747 - val_loss: 1.0799 - val_accuracy: 0.8185\n",
            "Epoch 13/15\n",
            "235/235 - 22s - loss: 0.0593 - accuracy: 0.9750 - val_loss: 1.1557 - val_accuracy: 0.8232\n",
            "Epoch 14/15\n",
            "235/235 - 22s - loss: 0.0606 - accuracy: 0.9723 - val_loss: 1.1604 - val_accuracy: 0.8214\n",
            "Epoch 15/15\n",
            "235/235 - 22s - loss: 0.0606 - accuracy: 0.9724 - val_loss: 1.1476 - val_accuracy: 0.8197\n"
          ],
          "name": "stdout"
        }
      ]
    },
    {
      "cell_type": "code",
      "metadata": {
        "colab": {
          "base_uri": "https://localhost:8080/",
          "height": 294
        },
        "id": "7W7am6ymgtqO",
        "outputId": "2052562a-6bcb-4e97-d04b-9786c16025c7"
      },
      "source": [
        "plt.plot(hist.history['loss'])\n",
        "plt.title('Model loss')\n",
        "plt.ylabel('Loss')\n",
        "plt.xlabel('Epoch')\n",
        "plt.legend(['Train'], loc='upper right')\n",
        "plt.show()"
      ],
      "execution_count": 40,
      "outputs": [
        {
          "output_type": "display_data",
          "data": {
            "image/png": "[encoded data removed]",
            "text/plain": [
              "<Figure size 432x288 with 1 Axes>"
            ]
          },
          "metadata": {
            "tags": [],
            "needs_background": "light"
          }
        }
      ]
    },
    {
      "cell_type": "code",
      "metadata": {
        "colab": {
          "base_uri": "https://localhost:8080/",
          "height": 294
        },
        "id": "d60XRk_3g6Dp",
        "outputId": "07ee1fad-36dc-4fab-a28f-814ae1f9c95a"
      },
      "source": [
        "plt.plot(hist.history['accuracy'])\n",
        "plt.title('Model accuracy')\n",
        "plt.ylabel('Accuracy')\n",
        "plt.xlabel('Epoch')\n",
        "plt.legend(['Train'], loc='lower right')\n",
        "plt.show()"
      ],
      "execution_count": 41,
      "outputs": [
        {
          "output_type": "display_data",
          "data": {
            "image/png": "[encoded data removed]",
            "text/plain": [
              "<Figure size 432x288 with 1 Axes>"
            ]
          },
          "metadata": {
            "tags": [],
            "needs_background": "light"
          }
        }
      ]
    },
    {
      "cell_type": "code",
      "metadata": {
        "colab": {
          "base_uri": "https://localhost:8080/"
        },
        "id": "2_XTk-fSaN22",
        "outputId": "358065d3-a202-47e7-df60-2b63b5cc8347"
      },
      "source": [
        "Y_pred = model.predict_classes(X_test,batch_size = batch_size)\n",
        "df_test = pd.DataFrame({'true': Y_test.tolist(), 'pred':Y_pred})\n",
        "df_test['true'] = df_test['true'].apply(lambda x: np.argmax(x))\n",
        "print('Confusion matrix\\n',confusion_matrix(df_test.true, df_test.pred))\n",
        "print(classification_report(df_test.true, df_test.pred))"
      ],
      "execution_count": 30,
      "outputs": [
        {
          "output_type": "stream",
          "text": [
            "/usr/local/lib/python3.7/dist-packages/keras/engine/sequential.py:450: UserWarning: `model.predict_classes()` is deprecated and will be removed after 2021-01-01. Please use instead:* `np.argmax(model.predict(x), axis=-1)`,   if your model does multi-class classification   (e.g. if it uses a `softmax` last-layer activation).* `(model.predict(x) > 0.5).astype(\"int32\")`,   if your model does binary classification   (e.g. if it uses a `sigmoid` last-layer activation).\n",
            "  warnings.warn('`model.predict_classes()` is deprecated and '\n"
          ],
          "name": "stderr"
        },
        {
          "output_type": "stream",
          "text": [
            "Confusion matrix\n",
            " [[1238  127]\n",
            " [ 177  177]]\n",
            "              precision    recall  f1-score   support\n",
            "\n",
            "           0       0.87      0.91      0.89      1365\n",
            "           1       0.58      0.50      0.54       354\n",
            "\n",
            "    accuracy                           0.82      1719\n",
            "   macro avg       0.73      0.70      0.71      1719\n",
            "weighted avg       0.81      0.82      0.82      1719\n",
            "\n"
          ],
          "name": "stdout"
        }
      ]
    }
  ]
}